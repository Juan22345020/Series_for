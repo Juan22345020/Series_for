{
  "nbformat": 4,
  "nbformat_minor": 0,
  "metadata": {
    "colab": {
      "provenance": [],
      "authorship_tag": "ABX9TyMnR1TDryIQDBr8Lk1dvziZ",
      "include_colab_link": true
    },
    "kernelspec": {
      "name": "python3",
      "display_name": "Python 3"
    },
    "language_info": {
      "name": "python"
    }
  },
  "cells": [
    {
      "cell_type": "markdown",
      "metadata": {
        "id": "view-in-github",
        "colab_type": "text"
      },
      "source": [
        "<a href=\"https://colab.research.google.com/github/Juan22345020/Series_for/blob/main/Untitled0.ipynb\" target=\"_parent\"><img src=\"https://colab.research.google.com/assets/colab-badge.svg\" alt=\"Open In Colab\"/></a>"
      ]
    },
    {
      "cell_type": "markdown",
      "source": [
        "SERIES USANDO FOR"
      ],
      "metadata": {
        "id": "3JN3FDD3F5yo"
      }
    },
    {
      "cell_type": "code",
      "execution_count": 4,
      "metadata": {
        "colab": {
          "base_uri": "https://localhost:8080/"
        },
        "id": "zcujx9kgErQw",
        "outputId": "8e6e9377-c6e5-4e87-e8af-268f672dc362"
      },
      "outputs": [
        {
          "output_type": "stream",
          "name": "stdout",
          "text": [
            "-----------------\n",
            "------Serie 1----\n",
            "-----------------\n",
            "serie: 1 ,2 ,3 ,4 ,5 ,6 ,7 ,8 ,9 ,10 ,\n"
          ]
        }
      ],
      "source": [
        "# serie 1: 1, 2, 3, 4, 5, 6, 7, 8, 9, 10\n",
        "\n",
        "print(\"-----------------\")\n",
        "print(\"------Serie 1----\")\n",
        "print(\"-----------------\")\n",
        "\n",
        "\n",
        "s = \"serie: {\"\n",
        "for i in range(1,11):\n",
        "  s = s + str (i) + \" ,\"\n",
        "  s = s + \"}\"\n",
        "print(s)\n"
      ]
    },
    {
      "cell_type": "code",
      "source": [
        "# Serie 2: 1, 4, 9, 16, 25, 36, 49, 64, 81\n",
        "\n",
        "print(\"-----------------\")\n",
        "print(\"------Serie 2----\")\n",
        "print(\"-----------------\")\n",
        "\n",
        "\n",
        "s = \"serie: {\"\n",
        "for i in range(1,11):\n",
        "  if i != 10:\n",
        "   s = s + str (2**i) + \", \"\n",
        "  else:\n",
        "     s = s + str(2**i)\n",
        "s = s + \" }\" \n",
        "print(s)\n"
      ],
      "metadata": {
        "colab": {
          "base_uri": "https://localhost:8080/"
        },
        "id": "kzFIXPmfI3G-",
        "outputId": "4d82fde3-f545-4d89-fdf8-b37fe075d528"
      },
      "execution_count": 5,
      "outputs": [
        {
          "output_type": "stream",
          "name": "stdout",
          "text": [
            "-----------------\n",
            "------Serie 2----\n",
            "-----------------\n",
            "serie: {2, 4, 8, 16, 32, 64, 128, 256, 512, 1024 }\n"
          ]
        }
      ]
    },
    {
      "cell_type": "code",
      "source": [
        "# Serie 4: 4, 2, 12, 20, 30, 42, 56...\n",
        "\n",
        "print(\"---------------------\")\n",
        "print(\"--------Serie 4------\")\n",
        "print(\"---------------------\")\n",
        "\n",
        "for i in range(1,11):\n",
        "  if i != 10:\n",
        "   s = s + str (i**2+i) + \", \"\n",
        "  else:\n",
        "     s = s + str(i**2+i)\n",
        "s = s + \" }\" \n",
        "print(s)\n",
        "\n",
        "\n"
      ],
      "metadata": {
        "colab": {
          "base_uri": "https://localhost:8080/"
        },
        "id": "IcfQwm8-PxBC",
        "outputId": "5006d52b-cd14-46d0-ebc0-a69d513f0f47"
      },
      "execution_count": 6,
      "outputs": [
        {
          "output_type": "stream",
          "name": "stdout",
          "text": [
            "---------------------\n",
            "--------Serie 4------\n",
            "---------------------\n",
            "serie: {2, 4, 8, 16, 32, 64, 128, 256, 512, 1024 }2, 6, 12, 20, 30, 42, 56, 72, 90, 110 }\n"
          ]
        }
      ]
    }
  ]
}